{
  "nbformat": 4,
  "nbformat_minor": 0,
  "metadata": {
    "colab": {
      "name": "PythonOperators.ipynb",
      "provenance": [],
      "authorship_tag": "ABX9TyOJb3w7iCLF273TczwtCPCt",
      "include_colab_link": true
    },
    "kernelspec": {
      "name": "python3",
      "display_name": "Python 3"
    },
    "language_info": {
      "name": "python"
    }
  },
  "cells": [
    {
      "cell_type": "markdown",
      "metadata": {
        "id": "view-in-github",
        "colab_type": "text"
      },
      "source": [
        "<a href=\"https://colab.research.google.com/github/biankasanders1/skillsnetwork/blob/master/PythonOperatorsSkillSharePractice.ipynb\" target=\"_parent\"><img src=\"https://colab.research.google.com/assets/colab-badge.svg\" alt=\"Open In Colab\"/></a>"
      ]
    },
    {
      "cell_type": "code",
      "metadata": {
        "id": "mQtL1o33Staa",
        "colab": {
          "base_uri": "https://localhost:8080/"
        },
        "outputId": "a715e90a-536a-4f23-c592-b881be913ff2"
      },
      "source": [
        "print(\"Data Science\")"
      ],
      "execution_count": 1,
      "outputs": [
        {
          "output_type": "stream",
          "text": [
            "Data Science\n"
          ],
          "name": "stdout"
        }
      ]
    },
    {
      "cell_type": "code",
      "metadata": {
        "colab": {
          "base_uri": "https://localhost:8080/"
        },
        "id": "IntzlF_hFKa5",
        "outputId": "2716cb5d-87d1-4565-db93-97b17c3eb23f"
      },
      "source": [
        "print(\"variable a=\", 45)"
      ],
      "execution_count": 2,
      "outputs": [
        {
          "output_type": "stream",
          "text": [
            "variable a= 45\n"
          ],
          "name": "stdout"
        }
      ]
    },
    {
      "cell_type": "code",
      "metadata": {
        "colab": {
          "base_uri": "https://localhost:8080/"
        },
        "id": "33uVhKP9FUBF",
        "outputId": "27bac407-e989-4f4a-9cf5-0c766de1994e"
      },
      "source": [
        "print (\"Data \\nScience\")"
      ],
      "execution_count": 5,
      "outputs": [
        {
          "output_type": "stream",
          "text": [
            "Data \n",
            "Science\n"
          ],
          "name": "stdout"
        }
      ]
    },
    {
      "cell_type": "code",
      "metadata": {
        "colab": {
          "base_uri": "https://localhost:8080/"
        },
        "id": "GosX7VcaFf2j",
        "outputId": "4fc74894-40ce-42f3-fcfe-6a63fac17263"
      },
      "source": [
        "print(\"Data \\n\", 45)"
      ],
      "execution_count": 6,
      "outputs": [
        {
          "output_type": "stream",
          "text": [
            "Data \n",
            " 45\n"
          ],
          "name": "stdout"
        }
      ]
    },
    {
      "cell_type": "code",
      "metadata": {
        "id": "wQrtWbceFsHH"
      },
      "source": [
        "#Operators"
      ],
      "execution_count": 7,
      "outputs": []
    },
    {
      "cell_type": "code",
      "metadata": {
        "id": "5uhS8LWqF1Tp"
      },
      "source": [
        "##Adition\n",
        "##Subtraction\n",
        "##Division\n",
        "##Multiplication"
      ],
      "execution_count": 8,
      "outputs": []
    },
    {
      "cell_type": "code",
      "metadata": {
        "id": "3yt13uLEF82l"
      },
      "source": [
        ""
      ],
      "execution_count": null,
      "outputs": []
    },
    {
      "cell_type": "markdown",
      "metadata": {
        "id": "qTUvKNqfGDny"
      },
      "source": [
        "# Operators"
      ]
    },
    {
      "cell_type": "code",
      "metadata": {
        "id": "fNTT5d_lGHHA"
      },
      "source": [
        " "
      ],
      "execution_count": null,
      "outputs": []
    },
    {
      "cell_type": "markdown",
      "metadata": {
        "id": "f5sGukIPGHy3"
      },
      "source": [
        "## Addition\n",
        "## Subtraction\n",
        "## Division\n",
        "## Multiplication \n",
        "## Exponents"
      ]
    },
    {
      "cell_type": "code",
      "metadata": {
        "colab": {
          "base_uri": "https://localhost:8080/"
        },
        "id": "AiQbhCOFGhT8",
        "outputId": "d5553702-16e0-4ace-9908-feb7706b1728"
      },
      "source": [
        "3+4"
      ],
      "execution_count": 1,
      "outputs": [
        {
          "output_type": "execute_result",
          "data": {
            "text/plain": [
              "7"
            ]
          },
          "metadata": {
            "tags": []
          },
          "execution_count": 1
        }
      ]
    },
    {
      "cell_type": "code",
      "metadata": {
        "colab": {
          "base_uri": "https://localhost:8080/"
        },
        "id": "2arKqVBosHvl",
        "outputId": "89cb4353-aafb-4f06-b7ca-1a76762b5d1b"
      },
      "source": [
        "4-2"
      ],
      "execution_count": 2,
      "outputs": [
        {
          "output_type": "execute_result",
          "data": {
            "text/plain": [
              "2"
            ]
          },
          "metadata": {
            "tags": []
          },
          "execution_count": 2
        }
      ]
    },
    {
      "cell_type": "code",
      "metadata": {
        "colab": {
          "base_uri": "https://localhost:8080/"
        },
        "id": "yHuGfvyQsJCv",
        "outputId": "2ca67a45-0d6e-4ef6-fd62-78d5df23e861"
      },
      "source": [
        "5*3\n"
      ],
      "execution_count": 3,
      "outputs": [
        {
          "output_type": "execute_result",
          "data": {
            "text/plain": [
              "15"
            ]
          },
          "metadata": {
            "tags": []
          },
          "execution_count": 3
        }
      ]
    },
    {
      "cell_type": "code",
      "metadata": {
        "colab": {
          "base_uri": "https://localhost:8080/"
        },
        "id": "gllp4EhDsKts",
        "outputId": "bbdec16c-438f-4740-c4f3-2f9a9322f96c"
      },
      "source": [
        "16/8"
      ],
      "execution_count": 4,
      "outputs": [
        {
          "output_type": "execute_result",
          "data": {
            "text/plain": [
              "2.0"
            ]
          },
          "metadata": {
            "tags": []
          },
          "execution_count": 4
        }
      ]
    },
    {
      "cell_type": "code",
      "metadata": {
        "colab": {
          "base_uri": "https://localhost:8080/"
        },
        "id": "MyKdme6AsNAt",
        "outputId": "0f0d9ad3-c05b-4e3e-93cf-a52b49e69161"
      },
      "source": [
        "16/5"
      ],
      "execution_count": 5,
      "outputs": [
        {
          "output_type": "execute_result",
          "data": {
            "text/plain": [
              "3.2"
            ]
          },
          "metadata": {
            "tags": []
          },
          "execution_count": 5
        }
      ]
    },
    {
      "cell_type": "code",
      "metadata": {
        "colab": {
          "base_uri": "https://localhost:8080/"
        },
        "id": "u_Zb3m1NsSX8",
        "outputId": "c3ca48c5-6a0f-4f9b-e0d1-59828cc34baa"
      },
      "source": [
        "2**3"
      ],
      "execution_count": 6,
      "outputs": [
        {
          "output_type": "execute_result",
          "data": {
            "text/plain": [
              "8"
            ]
          },
          "metadata": {
            "tags": []
          },
          "execution_count": 6
        }
      ]
    },
    {
      "cell_type": "code",
      "metadata": {
        "colab": {
          "base_uri": "https://localhost:8080/"
        },
        "id": "NKSjrjGVsjYJ",
        "outputId": "628ea8e4-cdf1-4d7a-d267-9b9791d5e67b"
      },
      "source": [
        "2**3"
      ],
      "execution_count": 8,
      "outputs": [
        {
          "output_type": "execute_result",
          "data": {
            "text/plain": [
              "8"
            ]
          },
          "metadata": {
            "tags": []
          },
          "execution_count": 8
        }
      ]
    },
    {
      "cell_type": "code",
      "metadata": {
        "colab": {
          "base_uri": "https://localhost:8080/"
        },
        "id": "9kMRrRZxsnlW",
        "outputId": "49dbfd85-ea6c-4d0d-e4e0-1db1719b4ece"
      },
      "source": [
        "a=9\n",
        "b=8\n",
        "a+b"
      ],
      "execution_count": 9,
      "outputs": [
        {
          "output_type": "execute_result",
          "data": {
            "text/plain": [
              "17"
            ]
          },
          "metadata": {
            "tags": []
          },
          "execution_count": 9
        }
      ]
    },
    {
      "cell_type": "code",
      "metadata": {
        "id": "h_mKI3RTs3zU"
      },
      "source": [
        "total=a+b"
      ],
      "execution_count": 10,
      "outputs": []
    },
    {
      "cell_type": "code",
      "metadata": {
        "colab": {
          "base_uri": "https://localhost:8080/"
        },
        "id": "gaWsvrsps6KD",
        "outputId": "5d6db74e-bf3c-4035-9ff4-371c27eefd53"
      },
      "source": [
        "print(total)"
      ],
      "execution_count": 11,
      "outputs": [
        {
          "output_type": "stream",
          "text": [
            "17\n"
          ],
          "name": "stdout"
        }
      ]
    },
    {
      "cell_type": "code",
      "metadata": {
        "id": "6d2oRmhes7gU"
      },
      "source": [
        "#Variable names should be meanigful"
      ],
      "execution_count": 12,
      "outputs": []
    },
    {
      "cell_type": "code",
      "metadata": {
        "colab": {
          "base_uri": "https://localhost:8080/"
        },
        "id": "8K_ht2MntAIm",
        "outputId": "1bca3e97-6f65-4ed1-c952-fea3ba9b22a4"
      },
      "source": [
        "print(\"Data\" + \"Science\")"
      ],
      "execution_count": 13,
      "outputs": [
        {
          "output_type": "stream",
          "text": [
            "DataScience\n"
          ],
          "name": "stdout"
        }
      ]
    },
    {
      "cell_type": "code",
      "metadata": {
        "colab": {
          "base_uri": "https://localhost:8080/"
        },
        "id": "W0nvb094trzW",
        "outputId": "5d5962cf-50e5-40b8-de0a-005f9d636fbe"
      },
      "source": [
        "print(\"a\"+\"b\")"
      ],
      "execution_count": 14,
      "outputs": [
        {
          "output_type": "stream",
          "text": [
            "ab\n"
          ],
          "name": "stdout"
        }
      ]
    },
    {
      "cell_type": "code",
      "metadata": {
        "id": "MZQ-0TmBtu-r"
      },
      "source": [
        ""
      ],
      "execution_count": null,
      "outputs": []
    },
    {
      "cell_type": "markdown",
      "metadata": {
        "id": "reZkaNX1uLly"
      },
      "source": [
        "#Comparison Operators"
      ]
    },
    {
      "cell_type": "code",
      "metadata": {
        "colab": {
          "base_uri": "https://localhost:8080/"
        },
        "id": "AYIki-8OuOky",
        "outputId": "d5993d67-d945-4549-90e0-bf7542e816c2"
      },
      "source": [
        "5 == 6"
      ],
      "execution_count": 15,
      "outputs": [
        {
          "output_type": "execute_result",
          "data": {
            "text/plain": [
              "False"
            ]
          },
          "metadata": {
            "tags": []
          },
          "execution_count": 15
        }
      ]
    },
    {
      "cell_type": "code",
      "metadata": {
        "colab": {
          "base_uri": "https://localhost:8080/"
        },
        "id": "Ynf6I3bcuQqb",
        "outputId": "379821f8-9289-47bd-a742-d8e099eaed83"
      },
      "source": [
        "8 != 9"
      ],
      "execution_count": 16,
      "outputs": [
        {
          "output_type": "execute_result",
          "data": {
            "text/plain": [
              "True"
            ]
          },
          "metadata": {
            "tags": []
          },
          "execution_count": 16
        }
      ]
    },
    {
      "cell_type": "code",
      "metadata": {
        "colab": {
          "base_uri": "https://localhost:8080/"
        },
        "id": "W86je_h_uUkI",
        "outputId": "d2028ba4-03eb-4f74-9079-6eee6d56e15a"
      },
      "source": [
        "5 == 6"
      ],
      "execution_count": 17,
      "outputs": [
        {
          "output_type": "execute_result",
          "data": {
            "text/plain": [
              "False"
            ]
          },
          "metadata": {
            "tags": []
          },
          "execution_count": 17
        }
      ]
    },
    {
      "cell_type": "code",
      "metadata": {
        "colab": {
          "base_uri": "https://localhost:8080/"
        },
        "id": "-pLiXsU-uWgh",
        "outputId": "714af902-1a0a-40a7-c8f3-0d1d561406a4"
      },
      "source": [
        "a=5\n",
        "b=5\n",
        "a==b"
      ],
      "execution_count": 18,
      "outputs": [
        {
          "output_type": "execute_result",
          "data": {
            "text/plain": [
              "True"
            ]
          },
          "metadata": {
            "tags": []
          },
          "execution_count": 18
        }
      ]
    },
    {
      "cell_type": "code",
      "metadata": {
        "id": "OD7_CFdKuaKC"
      },
      "source": [
        "##Greater than "
      ],
      "execution_count": 19,
      "outputs": []
    },
    {
      "cell_type": "code",
      "metadata": {
        "colab": {
          "base_uri": "https://localhost:8080/"
        },
        "id": "1F9vUazKud_o",
        "outputId": "73b32073-e916-427a-84a6-cc3ee3445e87"
      },
      "source": [
        "5>5"
      ],
      "execution_count": 20,
      "outputs": [
        {
          "output_type": "execute_result",
          "data": {
            "text/plain": [
              "False"
            ]
          },
          "metadata": {
            "tags": []
          },
          "execution_count": 20
        }
      ]
    },
    {
      "cell_type": "code",
      "metadata": {
        "colab": {
          "base_uri": "https://localhost:8080/"
        },
        "id": "HvWMOPjyufpn",
        "outputId": "a7e20821-7d3f-423f-e0a3-4e6f9ee401f8"
      },
      "source": [
        "5<5"
      ],
      "execution_count": 21,
      "outputs": [
        {
          "output_type": "execute_result",
          "data": {
            "text/plain": [
              "False"
            ]
          },
          "metadata": {
            "tags": []
          },
          "execution_count": 21
        }
      ]
    },
    {
      "cell_type": "code",
      "metadata": {
        "colab": {
          "base_uri": "https://localhost:8080/"
        },
        "id": "NJ_EzFThugyN",
        "outputId": "84395c60-b813-45f2-af9c-1cc453bcf3b0"
      },
      "source": [
        "5<6"
      ],
      "execution_count": 22,
      "outputs": [
        {
          "output_type": "execute_result",
          "data": {
            "text/plain": [
              "True"
            ]
          },
          "metadata": {
            "tags": []
          },
          "execution_count": 22
        }
      ]
    },
    {
      "cell_type": "code",
      "metadata": {
        "colab": {
          "base_uri": "https://localhost:8080/"
        },
        "id": "MA679QE2ui15",
        "outputId": "8b9e99a9-b73b-4bfc-88da-d20e58cbf19f"
      },
      "source": [
        "6>=5"
      ],
      "execution_count": 23,
      "outputs": [
        {
          "output_type": "execute_result",
          "data": {
            "text/plain": [
              "True"
            ]
          },
          "metadata": {
            "tags": []
          },
          "execution_count": 23
        }
      ]
    },
    {
      "cell_type": "code",
      "metadata": {
        "id": "4r8pSWtnunl2"
      },
      "source": [
        ""
      ],
      "execution_count": null,
      "outputs": []
    },
    {
      "cell_type": "markdown",
      "metadata": {
        "id": "O0cRQ7KVuz8m"
      },
      "source": [
        "#Logical Operators"
      ]
    },
    {
      "cell_type": "code",
      "metadata": {
        "id": "_IEU9KGPu2Rw"
      },
      "source": [
        ""
      ],
      "execution_count": null,
      "outputs": []
    },
    {
      "cell_type": "markdown",
      "metadata": {
        "id": "1aWqGdO8u3hI"
      },
      "source": [
        "- AND\n",
        "- OR\n",
        "- NOT"
      ]
    },
    {
      "cell_type": "code",
      "metadata": {
        "colab": {
          "base_uri": "https://localhost:8080/"
        },
        "id": "goGKvtq2u7MN",
        "outputId": "ed759f39-415f-43b5-f072-853ee7d19909"
      },
      "source": [
        "True and False"
      ],
      "execution_count": 24,
      "outputs": [
        {
          "output_type": "execute_result",
          "data": {
            "text/plain": [
              "False"
            ]
          },
          "metadata": {
            "tags": []
          },
          "execution_count": 24
        }
      ]
    },
    {
      "cell_type": "code",
      "metadata": {
        "colab": {
          "base_uri": "https://localhost:8080/"
        },
        "id": "We7mXE6tvA8M",
        "outputId": "2c3401f6-feca-4c92-b5f9-c0721288c3da"
      },
      "source": [
        "print (True and True)\n",
        "print (True and False)\n",
        "print (False and False)"
      ],
      "execution_count": 27,
      "outputs": [
        {
          "output_type": "stream",
          "text": [
            "True\n",
            "False\n",
            "False\n"
          ],
          "name": "stdout"
        }
      ]
    },
    {
      "cell_type": "code",
      "metadata": {
        "colab": {
          "base_uri": "https://localhost:8080/"
        },
        "id": "UWImzqpsvFjQ",
        "outputId": "c9b935a9-11dc-481c-c419-293727fdf6fe"
      },
      "source": [
        "print (True or True)\n",
        "print (True or False)\n",
        "print (False or False)"
      ],
      "execution_count": 28,
      "outputs": [
        {
          "output_type": "stream",
          "text": [
            "True\n",
            "True\n",
            "False\n"
          ],
          "name": "stdout"
        }
      ]
    },
    {
      "cell_type": "code",
      "metadata": {
        "colab": {
          "base_uri": "https://localhost:8080/"
        },
        "id": "KClBPrVtvo54",
        "outputId": "063e18c2-10e3-4ac3-af7b-275321df000d"
      },
      "source": [
        "not True "
      ],
      "execution_count": 29,
      "outputs": [
        {
          "output_type": "execute_result",
          "data": {
            "text/plain": [
              "False"
            ]
          },
          "metadata": {
            "tags": []
          },
          "execution_count": 29
        }
      ]
    },
    {
      "cell_type": "code",
      "metadata": {
        "colab": {
          "base_uri": "https://localhost:8080/"
        },
        "id": "A936rHNQvrKy",
        "outputId": "eeb8003f-b953-4f33-bad0-0d1594e0af53"
      },
      "source": [
        "5>6 and 6<5"
      ],
      "execution_count": 30,
      "outputs": [
        {
          "output_type": "execute_result",
          "data": {
            "text/plain": [
              "False"
            ]
          },
          "metadata": {
            "tags": []
          },
          "execution_count": 30
        }
      ]
    },
    {
      "cell_type": "code",
      "metadata": {
        "id": "sTOCH5-1wECS"
      },
      "source": [
        ""
      ],
      "execution_count": null,
      "outputs": []
    },
    {
      "cell_type": "markdown",
      "metadata": {
        "id": "DEWDHCmqwR7Z"
      },
      "source": [
        "#Operator Precedence"
      ]
    },
    {
      "cell_type": "code",
      "metadata": {
        "id": "UbRi3SbOwVhF"
      },
      "source": [
        ""
      ],
      "execution_count": null,
      "outputs": []
    },
    {
      "cell_type": "markdown",
      "metadata": {
        "id": "IvXl9mODwWJL"
      },
      "source": [
        "1. NOT\n",
        "2. AND\n",
        "3. OR"
      ]
    },
    {
      "cell_type": "code",
      "metadata": {
        "colab": {
          "base_uri": "https://localhost:8080/"
        },
        "id": "l9mQRQ_Nwd9v",
        "outputId": "6d889a22-24bd-4b44-c48c-364843f05147"
      },
      "source": [
        "not True and False or True"
      ],
      "execution_count": 32,
      "outputs": [
        {
          "output_type": "execute_result",
          "data": {
            "text/plain": [
              "True"
            ]
          },
          "metadata": {
            "tags": []
          },
          "execution_count": 32
        }
      ]
    },
    {
      "cell_type": "code",
      "metadata": {
        "id": "eA_vKu5PwlTS"
      },
      "source": [
        ""
      ],
      "execution_count": null,
      "outputs": []
    }
  ]
}
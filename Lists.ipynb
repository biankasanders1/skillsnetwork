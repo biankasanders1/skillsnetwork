{
  "nbformat": 4,
  "nbformat_minor": 0,
  "metadata": {
    "colab": {
      "name": "Lists.ipynb",
      "provenance": [],
      "authorship_tag": "ABX9TyNk4EF+/621dEY55SBs3VpH",
      "include_colab_link": true
    },
    "kernelspec": {
      "name": "python3",
      "display_name": "Python 3"
    },
    "language_info": {
      "name": "python"
    }
  },
  "cells": [
    {
      "cell_type": "markdown",
      "metadata": {
        "id": "view-in-github",
        "colab_type": "text"
      },
      "source": [
        "<a href=\"https://colab.research.google.com/github/biankasanders1/skillsnetwork/blob/master/Lists.ipynb\" target=\"_parent\"><img src=\"https://colab.research.google.com/assets/colab-badge.svg\" alt=\"Open In Colab\"/></a>"
      ]
    },
    {
      "cell_type": "code",
      "metadata": {
        "id": "TgdJffwZ78ZQ"
      },
      "source": [
        "x = 2 #Variable \n",
        "y = 4.2 #float\n",
        "z = \"ahmed\" #string\n",
        "f = False #boolean"
      ],
      "execution_count": 1,
      "outputs": []
    },
    {
      "cell_type": "code",
      "metadata": {
        "id": "JAtNOGtz8KJH"
      },
      "source": [
        "my_list= [x , y , z , f] #Create a list. Must have [] "
      ],
      "execution_count": 5,
      "outputs": []
    },
    {
      "cell_type": "code",
      "metadata": {
        "colab": {
          "base_uri": "https://localhost:8080/"
        },
        "id": "RX1UPGtV8QzF",
        "outputId": "603ab3d0-016b-4dd0-d0b3-066c18c3898c"
      },
      "source": [
        "print(my_list)"
      ],
      "execution_count": 3,
      "outputs": [
        {
          "output_type": "stream",
          "text": [
            "[2, 4.2, 'ahmed', False]\n"
          ],
          "name": "stdout"
        }
      ]
    },
    {
      "cell_type": "markdown",
      "metadata": {
        "id": "pse14vzJ83mD"
      },
      "source": [
        "#Mutibility"
      ]
    },
    {
      "cell_type": "markdown",
      "metadata": {
        "id": "Q6BxP0MC94qB"
      },
      "source": [
        ""
      ]
    },
    {
      "cell_type": "code",
      "metadata": {
        "colab": {
          "base_uri": "https://localhost:8080/"
        },
        "id": "EehpZUHq8Xfu",
        "outputId": "1388a5c5-70ed-4880-e8df-196de6f3fafa"
      },
      "source": [
        "print(type(my_list)) #Data type information. An advance data type."
      ],
      "execution_count": 4,
      "outputs": [
        {
          "output_type": "stream",
          "text": [
            "<class 'list'>\n"
          ],
          "name": "stdout"
        }
      ]
    },
    {
      "cell_type": "code",
      "metadata": {
        "id": "pIUyp5Kg8dZH"
      },
      "source": [
        "list_example = [1,3,3]\n",
        "list_example [1]= \"Bianka\""
      ],
      "execution_count": 6,
      "outputs": []
    },
    {
      "cell_type": "code",
      "metadata": {
        "colab": {
          "base_uri": "https://localhost:8080/"
        },
        "id": "RlTXyL389J3l",
        "outputId": "50bdf73e-723e-4541-9140-7a4bc4a23ee0"
      },
      "source": [
        "print(list_example)"
      ],
      "execution_count": 7,
      "outputs": [
        {
          "output_type": "stream",
          "text": [
            "[1, 'Bianka', 3]\n"
          ],
          "name": "stdout"
        }
      ]
    },
    {
      "cell_type": "code",
      "metadata": {
        "colab": {
          "base_uri": "https://localhost:8080/"
        },
        "id": "XKuoNiYQ9MsW",
        "outputId": "52a8657f-a37e-42fa-9aba-fc309862c760"
      },
      "source": [
        "List_example =[2, 10, 'a', 2, 100]\n",
        "print(List_example [1:2])##10\n",
        "print(List_example[1:3])"
      ],
      "execution_count": 8,
      "outputs": [
        {
          "output_type": "stream",
          "text": [
            "[10]\n",
            "[10, 'a']\n"
          ],
          "name": "stdout"
        }
      ]
    },
    {
      "cell_type": "code",
      "metadata": {
        "id": "zP90Upkx9z-9"
      },
      "source": [
        ""
      ],
      "execution_count": null,
      "outputs": []
    },
    {
      "cell_type": "markdown",
      "metadata": {
        "id": "hZAT7LLS91ZD"
      },
      "source": [
        "#Slicing\n"
      ]
    },
    {
      "cell_type": "markdown",
      "metadata": {
        "id": "tdYoyLnG96hj"
      },
      "source": [
        "#Negative Slicing"
      ]
    },
    {
      "cell_type": "code",
      "metadata": {
        "colab": {
          "base_uri": "https://localhost:8080/"
        },
        "id": "sQmIFZEd93T6",
        "outputId": "ec5f2319-8842-46dd-eb3c-35e2a2dad0e9"
      },
      "source": [
        "print(List_example [-1])\n",
        "print(List_example[-3:-1])\n",
        "print(List_example[-1:-3])"
      ],
      "execution_count": 9,
      "outputs": [
        {
          "output_type": "stream",
          "text": [
            "100\n",
            "['a', 2]\n",
            "[]\n"
          ],
          "name": "stdout"
        }
      ]
    },
    {
      "cell_type": "code",
      "metadata": {
        "id": "SftUsM2d-Qz1"
      },
      "source": [
        ""
      ],
      "execution_count": null,
      "outputs": []
    }
  ]
}